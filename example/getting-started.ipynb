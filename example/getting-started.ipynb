{
 "cells": [
  {
   "cell_type": "markdown",
   "metadata": {},
   "source": [
    "# Getting Started\n",
    "\n",
    "For a quick start, we compare the different algorithms for deconvolution on the IRIS data set, estimating the probability density of Iris plant types."
   ]
  },
  {
   "cell_type": "code",
   "execution_count": 1,
   "metadata": {
    "collapsed": false
   },
   "outputs": [
    {
     "data": {
      "text/plain": [
       "3-element Array{Int64,1}:\n",
       " 1\n",
       " 2\n",
       " 3"
      ]
     },
     "execution_count": 1,
     "metadata": {},
     "output_type": "execute_result"
    }
   ],
   "source": [
    "# load the example data\n",
    "using MLDataUtils\n",
    "X, y_labels, _ = load_iris()\n",
    "\n",
    "# discretize the target quantity (for numerical values, we'd use LinearDiscretizer)\n",
    "using Discretizers: encode, CategoricalDiscretizer\n",
    "y = encode(CategoricalDiscretizer(y_labels), y_labels) # vector of target value indices\n",
    "\n",
    "# have a look at the content of y\n",
    "unique(y) # its just indices"
   ]
  },
  {
   "cell_type": "code",
   "execution_count": 2,
   "metadata": {
    "collapsed": false
   },
   "outputs": [],
   "source": [
    "# Split the data into training and observed data sets.\n",
    "# \n",
    "# The matrices MLDataUtils expects are transposed, by default.\n",
    "# Thus, we have to be explicit about obsdim = 1. Note that\n",
    "# CherenkovDeconvolution.jl follows the convention of ScikitLearn.jl\n",
    "# (and others), which is size(X_train) == (n_examples, n_features).\n",
    "# \n",
    "# MLDataUtils unfortunately assumes size(X_train) == (n_features, n_examples),\n",
    "# but obsdim = 1 fixes this assumption.\n",
    "# \n",
    "srand(42) # make split reproducible\n",
    "(X_train, y_train), (X_data, y_data) = splitobs(shuffleobs((X', y), obsdim = 1), obsdim = 1);"
   ]
  },
  {
   "cell_type": "markdown",
   "metadata": {},
   "source": [
    "## Deconvolution with DSEA\n",
    "\n",
    "The Dortmund Spectrum Estimation Algorithm (DSEA) reconstructs the target density from classifier predictions on the target quantity of individual examples. CherenkovDeconvolution.jl implements the improved version DSEA+, which is extended by adaptive step sizes and a fixed reweighting of examples."
   ]
  },
  {
   "cell_type": "code",
   "execution_count": 3,
   "metadata": {
    "collapsed": false
   },
   "outputs": [
    {
     "data": {
      "text/plain": [
       "3-element Array{Float64,1}:\n",
       " 0.333333\n",
       " 0.354929\n",
       " 0.311738"
      ]
     },
     "execution_count": 3,
     "metadata": {},
     "output_type": "execute_result"
    }
   ],
   "source": [
    "using ScikitLearn, CherenkovDeconvolution\n",
    "\n",
    "# deconvolve with a Naive Bayes classifier\n",
    "@sk_import naive_bayes : GaussianNB\n",
    "tp_function = Sklearn.train_and_predict_proba(GaussianNB()) # trains and applies the classifier in each iteration\n",
    "                                                            # Sklearn is a sub-module of CherenkovDeconvolution.jl\n",
    "\n",
    "f_dsea = dsea(X_data, X_train, y_train, tp_function) # returns a vector of target value probabilities"
   ]
  },
  {
   "cell_type": "code",
   "execution_count": 4,
   "metadata": {
    "collapsed": false
   },
   "outputs": [
    {
     "data": {
      "text/plain": [
       "3-element Array{Float64,1}:\n",
       " 0.333333\n",
       " 0.355556\n",
       " 0.311111"
      ]
     },
     "execution_count": 4,
     "metadata": {},
     "output_type": "execute_result"
    }
   ],
   "source": [
    "# compare the result to the true target distribution, which we are estimating\n",
    "f_true = Util.fit_pdf(y_data) # f_dsea is almost equal to f_true!"
   ]
  },
  {
   "cell_type": "markdown",
   "metadata": {},
   "source": [
    "## Regularized Unfolding and Iterative Bayesian Unfolding\n",
    "\n",
    "RUN fits the density distribution `f` to the convolution model `g = R * f`, using maximum likelihood. The regularization strength is configured with `n_df`, the effective number of degrees of freedom in the second-order local model of the solution.\n",
    "\n",
    "IBU reconstructs the target density by iteratively applying Bayes' rule to the conditional probabilities contained in the detector response matrix."
   ]
  },
  {
   "cell_type": "code",
   "execution_count": 5,
   "metadata": {
    "collapsed": false
   },
   "outputs": [
    {
     "data": {
      "text/plain": [
       "6-element Array{Int64,1}:\n",
       " 1\n",
       " 2\n",
       " 3\n",
       " 4\n",
       " 5\n",
       " 6"
      ]
     },
     "execution_count": 5,
     "metadata": {},
     "output_type": "execute_result"
    }
   ],
   "source": [
    "#\n",
    "# RUN and IBU are only applicable with a single discrete observable dimension. In order to\n",
    "# obtain a dimension that contains as much information as possible, we discretize the feature\n",
    "# space with a decision tree, using its leaves as clusters. The cluster indices are the\n",
    "# discrete values of the observed dimension. This concept relates to supervised clustering.\n",
    "#\n",
    "td = Sklearn.TreeDiscretizer(X_train, y_train, 6) # obtain (up to) 6 clusters\n",
    "x_train = encode(td, X_train)\n",
    "x_data  = encode(td, X_data)\n",
    "\n",
    "# have a look at the content of x_train\n",
    "unique(x_train) # its the cluster indices"
   ]
  },
  {
   "cell_type": "code",
   "execution_count": 6,
   "metadata": {
    "collapsed": false
   },
   "outputs": [
    {
     "name": "stderr",
     "output_type": "stream",
     "text": [
      "\u001b[1m\u001b[33mWARNING: \u001b[39m\u001b[22m\u001b[33mLimiting RUN to 3 of 6 observeable non-zero bins\u001b[39m\n"
     ]
    },
    {
     "data": {
      "text/plain": [
       "3-element Array{Float64,1}:\n",
       " 0.320622\n",
       " 0.342725\n",
       " 0.336653"
      ]
     },
     "execution_count": 6,
     "metadata": {},
     "output_type": "execute_result"
    }
   ],
   "source": [
    "# However, RUN and IBU do not need a classifier for deconvolution\n",
    "f_run = CherenkovDeconvolution.run(x_data, x_train, y_train) # module qualification required"
   ]
  },
  {
   "cell_type": "code",
   "execution_count": 7,
   "metadata": {
    "collapsed": false
   },
   "outputs": [
    {
     "data": {
      "text/plain": [
       "3-element Array{Float64,1}:\n",
       " 0.333333\n",
       " 0.346387\n",
       " 0.320279"
      ]
     },
     "execution_count": 7,
     "metadata": {},
     "output_type": "execute_result"
    }
   ],
   "source": [
    "f_ibu = ibu(x_data, x_train, y_train)"
   ]
  },
  {
   "cell_type": "markdown",
   "metadata": {},
   "source": [
    "## More Information"
   ]
  },
  {
   "cell_type": "code",
   "execution_count": 8,
   "metadata": {
    "collapsed": false
   },
   "outputs": [
    {
     "name": "stdout",
     "output_type": "stream",
     "text": [
      "search: \u001b[1md\u001b[22m\u001b[1ms\u001b[22m\u001b[1me\u001b[22m\u001b[1ma\u001b[22m Gri\u001b[1md\u001b[22m\u001b[1mS\u001b[22m\u001b[1me\u001b[22m\u001b[1ma\u001b[22mrch \u001b[1mD\u001b[22men\u001b[1ms\u001b[22m\u001b[1me\u001b[22m\u001b[1mA\u001b[22mrray \u001b[1md\u001b[22me\u001b[1ms\u001b[22m\u001b[1me\u001b[22mri\u001b[1ma\u001b[22mlize \u001b[1mD\u001b[22men\u001b[1ms\u001b[22m\u001b[1me\u001b[22mM\u001b[1ma\u001b[22mtrix \u001b[1mD\u001b[22men\u001b[1ms\u001b[22m\u001b[1me\u001b[22mVecOrM\u001b[1ma\u001b[22mt\n",
      "\n"
     ]
    },
    {
     "data": {
      "text/markdown": [
       "```\n",
       "dsea(data, train, y, train_predict[, bins]; kwargs...)\n",
       "\n",
       "dsea(X_data, X_train, y_train, train_predict[, bins]; kwargs...)\n",
       "```\n",
       "\n",
       "Deconvolve the observed data with *DSEA/DSEA+* trained on the given training set.\n",
       "\n",
       "The first form of this function works on the two DataFrames `data` and `train`, where `y` specifies the target column to be deconvolved - this column has to be present in the DataFrame `train`. The second form works on vectors and matrices.\n",
       "\n",
       "To facilitate classification, `y_train` (or `train[y]` in the first form) must contain label indices rather than actual values. All expected indices are optionally provided as `bins`. The function object `train_predict(X_data, X_train, y_train, w_train) -> Matrix` trains and applies a classifier, obtaining a confidence matrix. All of its arguments but `w_train`, which is updated in each iteration, are simply passed through from `dsea`.\n",
       "\n",
       "**Keyword arguments**\n",
       "\n",
       "  * `f_0 = ones(m) ./ m` defines the prior, which is uniform by default\n",
       "  * `fixweighting = true` sets, whether or not the weight update fix is applied. This fix is proposed in my Master's thesis and in the corresponding paper.\n",
       "  * `alpha = 1.0` is the step size taken in every iteration. This parameter can be either a constant value or a function with the signature `(k::Int, pk::AbstractVector{Float64}, f_prev::AbstractVector{Float64} -> Float`, where `f_prev` is the estimate of the previous iteration and `pk` is the direction that DSEA takes in the current iteration `k`.\n",
       "  * `smoothing = Base.identity` is a function that optionally applies smoothing in between iterations\n",
       "  * `K = 1` is the maximum number of iterations.\n",
       "  * `epsilon = 0.0` is the minimum symmetric Chi Square distance between iterations. If the actual distance is below this threshold, convergence is assumed and the algorithm stops.\n",
       "  * `inspect = nothing` is a function `(f_k::Vector, k::Int, chi2s::Float64, alpha::Float64) -> Any` optionally called in every iteration.\n",
       "  * `loggingstream = DevNull` is an optional `IO` stream to write log messages to.\n",
       "  * `return_contributions = false` sets, whether or not the contributions of individual examples in `X_data` are returned as a tuple together with the deconvolution result.\n",
       "  * `features = setdiff(names(train), [y])` specifies which columns in `data` and `train` to be used as features - only applicable to the first form of this function.\n"
      ],
      "text/plain": [
       "```\n",
       "dsea(data, train, y, train_predict[, bins]; kwargs...)\n",
       "\n",
       "dsea(X_data, X_train, y_train, train_predict[, bins]; kwargs...)\n",
       "```\n",
       "\n",
       "Deconvolve the observed data with *DSEA/DSEA+* trained on the given training set.\n",
       "\n",
       "The first form of this function works on the two DataFrames `data` and `train`, where `y` specifies the target column to be deconvolved - this column has to be present in the DataFrame `train`. The second form works on vectors and matrices.\n",
       "\n",
       "To facilitate classification, `y_train` (or `train[y]` in the first form) must contain label indices rather than actual values. All expected indices are optionally provided as `bins`. The function object `train_predict(X_data, X_train, y_train, w_train) -> Matrix` trains and applies a classifier, obtaining a confidence matrix. All of its arguments but `w_train`, which is updated in each iteration, are simply passed through from `dsea`.\n",
       "\n",
       "**Keyword arguments**\n",
       "\n",
       "  * `f_0 = ones(m) ./ m` defines the prior, which is uniform by default\n",
       "  * `fixweighting = true` sets, whether or not the weight update fix is applied. This fix is proposed in my Master's thesis and in the corresponding paper.\n",
       "  * `alpha = 1.0` is the step size taken in every iteration. This parameter can be either a constant value or a function with the signature `(k::Int, pk::AbstractVector{Float64}, f_prev::AbstractVector{Float64} -> Float`, where `f_prev` is the estimate of the previous iteration and `pk` is the direction that DSEA takes in the current iteration `k`.\n",
       "  * `smoothing = Base.identity` is a function that optionally applies smoothing in between iterations\n",
       "  * `K = 1` is the maximum number of iterations.\n",
       "  * `epsilon = 0.0` is the minimum symmetric Chi Square distance between iterations. If the actual distance is below this threshold, convergence is assumed and the algorithm stops.\n",
       "  * `inspect = nothing` is a function `(f_k::Vector, k::Int, chi2s::Float64, alpha::Float64) -> Any` optionally called in every iteration.\n",
       "  * `loggingstream = DevNull` is an optional `IO` stream to write log messages to.\n",
       "  * `return_contributions = false` sets, whether or not the contributions of individual examples in `X_data` are returned as a tuple together with the deconvolution result.\n",
       "  * `features = setdiff(names(train), [y])` specifies which columns in `data` and `train` to be used as features - only applicable to the first form of this function.\n"
      ]
     },
     "execution_count": 8,
     "metadata": {},
     "output_type": "execute_result"
    }
   ],
   "source": [
    "?dsea # You can find more information in the documentation"
   ]
  },
  {
   "cell_type": "code",
   "execution_count": 9,
   "metadata": {
    "collapsed": false
   },
   "outputs": [
    {
     "data": {
      "text/markdown": [
       "```\n",
       "run(data, train, x, y[, bins]; kwargs...)\n",
       "\n",
       "run(x_data, x_train, y_train[, bins]; kwargs...)\n",
       "\n",
       "run(R, g; kwargs...)\n",
       "```\n",
       "\n",
       "Deconvolve the observed data applying the *Regularized Unfolding* trained on the given training set.\n",
       "\n",
       "The first form of this function works on the two DataFrames `data` and `train`, where `y` specifies the target column to be deconvolved (this column has to be present in `train`) and `x` specifies the observed column present in both DataFrames. The second form accordingly works on vectors and the third form makes use of a pre-defined detector response matrix `R` and an observed (discrete) frequency distribution `g` (absolute counts, not a pdf!!). In the first two forms, `R` and `g` are directly obtained from the data and the keyword arguments.\n",
       "\n",
       "The vectors `x_data`, `x_train`, and `y_train` (or accordingly `data[x]`, `train[x]`, and `train[y]`) must contain label/observation indices rather than actual values. All expected indices in `y_train` are optionally provided as `bins`.\n",
       "\n",
       "**Keyword arguments**\n",
       "\n",
       "  * `n_df = size(R, 2)` is the effective number of degrees of freedom. The default `n_df` results in no regularization (there is one degree of freedom for each dimension in the result).\n",
       "  * `K = 100` is the maximum number of iterations.\n",
       "  * `epsilon = 1e-6` is the minimum difference in the loss function between iterations. RUN stops when the absolute loss difference drops below `epsilon`.\n",
       "  * `inspect = nothing` is a function `(f_k::Vector, k::Int, ldiff::Float64, tau::Float64) -> Any` optionally called in every iteration.\n",
       "  * `loggingstream = DevNull` is an optional `IO` stream to write log messages to.\n"
      ],
      "text/plain": [
       "```\n",
       "run(data, train, x, y[, bins]; kwargs...)\n",
       "\n",
       "run(x_data, x_train, y_train[, bins]; kwargs...)\n",
       "\n",
       "run(R, g; kwargs...)\n",
       "```\n",
       "\n",
       "Deconvolve the observed data applying the *Regularized Unfolding* trained on the given training set.\n",
       "\n",
       "The first form of this function works on the two DataFrames `data` and `train`, where `y` specifies the target column to be deconvolved (this column has to be present in `train`) and `x` specifies the observed column present in both DataFrames. The second form accordingly works on vectors and the third form makes use of a pre-defined detector response matrix `R` and an observed (discrete) frequency distribution `g` (absolute counts, not a pdf!!). In the first two forms, `R` and `g` are directly obtained from the data and the keyword arguments.\n",
       "\n",
       "The vectors `x_data`, `x_train`, and `y_train` (or accordingly `data[x]`, `train[x]`, and `train[y]`) must contain label/observation indices rather than actual values. All expected indices in `y_train` are optionally provided as `bins`.\n",
       "\n",
       "**Keyword arguments**\n",
       "\n",
       "  * `n_df = size(R, 2)` is the effective number of degrees of freedom. The default `n_df` results in no regularization (there is one degree of freedom for each dimension in the result).\n",
       "  * `K = 100` is the maximum number of iterations.\n",
       "  * `epsilon = 1e-6` is the minimum difference in the loss function between iterations. RUN stops when the absolute loss difference drops below `epsilon`.\n",
       "  * `inspect = nothing` is a function `(f_k::Vector, k::Int, ldiff::Float64, tau::Float64) -> Any` optionally called in every iteration.\n",
       "  * `loggingstream = DevNull` is an optional `IO` stream to write log messages to.\n"
      ]
     },
     "execution_count": 9,
     "metadata": {},
     "output_type": "execute_result"
    }
   ],
   "source": [
    "?CherenkovDeconvolution.run"
   ]
  },
  {
   "cell_type": "code",
   "execution_count": 10,
   "metadata": {
    "collapsed": false
   },
   "outputs": [
    {
     "name": "stdout",
     "output_type": "stream",
     "text": [
      "search: \u001b[1mi\u001b[22m\u001b[1mb\u001b[22m\u001b[1mu\u001b[22m \u001b[1mI\u001b[22mO\u001b[1mB\u001b[22m\u001b[1mu\u001b[22mffer @\u001b[1mi\u001b[22mn\u001b[1mb\u001b[22mo\u001b[1mu\u001b[22mnds P\u001b[1mi\u001b[22mpe\u001b[1mB\u001b[22m\u001b[1mu\u001b[22mffer D\u001b[1mi\u001b[22mstri\u001b[1mb\u001b[22m\u001b[1mu\u001b[22mted \u001b[1mi\u001b[22ms_\u001b[1mb\u001b[22msd\n",
      "\n"
     ]
    },
    {
     "data": {
      "text/markdown": [
       "```\n",
       "ibu(data, train, x, y[, bins]; kwargs...)\n",
       "\n",
       "ibu(x_data, x_train, y_train[, bins]; kwargs...)\n",
       "\n",
       "ibu(R, g; kwargs...)\n",
       "```\n",
       "\n",
       "Deconvolve the observed data applying the *Iterative Bayesian Unfolding* trained on the given training set.\n",
       "\n",
       "The first form of this function works on the two DataFrames `data` and `train`, where `y` specifies the target column to be deconvolved (this column has to be present in `train`) and `x` specifies the observed column present in both DataFrames. The second form accordingly works on vectors and the third form makes use of a pre-defined detector response matrix `R` and an observed (discrete) probability density `g`. In the first two forms, `R` and `g` are directly obtained from the data and the keyword arguments.\n",
       "\n",
       "The vectors `x_data`, `x_train`, and `y_train` (or accordingly `data[x]`, `train[x]`, and `train[y]`) must contain label/observation indices rather than actual values. All expected indices in `y_train` are optionally provided as `bins`.\n",
       "\n",
       "**Keyword arguments**\n",
       "\n",
       "  * `f_0 = ones(m) ./ m` defines the prior, which is uniform by default.\n",
       "  * `smoothing = Base.identity` is a function that optionally applies smoothing in between iterations. The operation is neither applied to the initial prior, nor to the final result. The function `inspect` is called before the smoothing is performed.\n",
       "  * `K = 3` is the maximum number of iterations.\n",
       "  * `epsilon = 0.0` is the minimum symmetric Chi Square distance between iterations. If the actual distance is below this threshold, convergence is assumed and the algorithm stops.\n",
       "  * `fit_ratios = false` determines if ratios are fitted (i.e. `R` has to contain counts so that the ratio `f_est / f_train` is estimated) or if the probability density `f_est` is fitted directly.\n",
       "  * `inspect = nothing` is a function `(f_k::Vector, k::Int, chi2s::Float64) -> Any` optionally called in every iteration.\n",
       "  * `loggingstream = DevNull` is an optional `IO` stream to write log messages to.\n",
       "\n",
       "**Caution:** According to the value of `fit_ratios`, the keyword argument `f_0` specifies a ratio prior or a pdf prior, but only in the third form. In the second form, `f_0` always specifies a pdf prior.\n"
      ],
      "text/plain": [
       "```\n",
       "ibu(data, train, x, y[, bins]; kwargs...)\n",
       "\n",
       "ibu(x_data, x_train, y_train[, bins]; kwargs...)\n",
       "\n",
       "ibu(R, g; kwargs...)\n",
       "```\n",
       "\n",
       "Deconvolve the observed data applying the *Iterative Bayesian Unfolding* trained on the given training set.\n",
       "\n",
       "The first form of this function works on the two DataFrames `data` and `train`, where `y` specifies the target column to be deconvolved (this column has to be present in `train`) and `x` specifies the observed column present in both DataFrames. The second form accordingly works on vectors and the third form makes use of a pre-defined detector response matrix `R` and an observed (discrete) probability density `g`. In the first two forms, `R` and `g` are directly obtained from the data and the keyword arguments.\n",
       "\n",
       "The vectors `x_data`, `x_train`, and `y_train` (or accordingly `data[x]`, `train[x]`, and `train[y]`) must contain label/observation indices rather than actual values. All expected indices in `y_train` are optionally provided as `bins`.\n",
       "\n",
       "**Keyword arguments**\n",
       "\n",
       "  * `f_0 = ones(m) ./ m` defines the prior, which is uniform by default.\n",
       "  * `smoothing = Base.identity` is a function that optionally applies smoothing in between iterations. The operation is neither applied to the initial prior, nor to the final result. The function `inspect` is called before the smoothing is performed.\n",
       "  * `K = 3` is the maximum number of iterations.\n",
       "  * `epsilon = 0.0` is the minimum symmetric Chi Square distance between iterations. If the actual distance is below this threshold, convergence is assumed and the algorithm stops.\n",
       "  * `fit_ratios = false` determines if ratios are fitted (i.e. `R` has to contain counts so that the ratio `f_est / f_train` is estimated) or if the probability density `f_est` is fitted directly.\n",
       "  * `inspect = nothing` is a function `(f_k::Vector, k::Int, chi2s::Float64) -> Any` optionally called in every iteration.\n",
       "  * `loggingstream = DevNull` is an optional `IO` stream to write log messages to.\n",
       "\n",
       "**Caution:** According to the value of `fit_ratios`, the keyword argument `f_0` specifies a ratio prior or a pdf prior, but only in the third form. In the second form, `f_0` always specifies a pdf prior.\n"
      ]
     },
     "execution_count": 10,
     "metadata": {},
     "output_type": "execute_result"
    }
   ],
   "source": [
    "?ibu"
   ]
  }
 ],
 "metadata": {
  "kernelspec": {
   "display_name": "Julia 0.6.4",
   "language": "julia",
   "name": "julia-0.6"
  },
  "language_info": {
   "file_extension": ".jl",
   "mimetype": "application/julia",
   "name": "julia",
   "version": "0.6.4"
  }
 },
 "nbformat": 4,
 "nbformat_minor": 2
}
